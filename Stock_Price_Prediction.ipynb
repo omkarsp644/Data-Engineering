{
  "cells": [
    {
      "cell_type": "markdown",
      "metadata": {
        "id": "view-in-github",
        "colab_type": "text"
      },
      "source": [
        "<a href=\"https://colab.research.google.com/github/omkarsp644/Data-Engineering/blob/main/Stock_Price_Prediction.ipynb\" target=\"_parent\"><img src=\"https://colab.research.google.com/assets/colab-badge.svg\" alt=\"Open In Colab\"/></a>"
      ]
    },
    {
      "cell_type": "code",
      "execution_count": null,
      "id": "8d0e6748",
      "metadata": {
        "id": "8d0e6748"
      },
      "outputs": [],
      "source": [
        "#WZmSksQmNkYD1AmvzmKC\n",
        "!pip install Quandl\n",
        "\n",
        "# https://github.com/Amritpal-001/Stock-price-predicition/blob/master/5%20-%20MRF_Stock_Prediction_Using_LSTM.ipynb"
      ]
    },
    {
      "cell_type": "code",
      "execution_count": null,
      "id": "5c05d79d",
      "metadata": {
        "id": "5c05d79d"
      },
      "outputs": [],
      "source": [
        "import quandl\n",
        "import datetime\n",
        "import numpy as np\n",
        "import matplotlib.pyplot as plt\n",
        "import pandas as pd\n",
        "from pandas import datetime\n",
        "from math import sqrt\n",
        "import math\n",
        "#importing keras modules\n",
        "from keras.models import Sequential\n",
        "from keras.layers import Dense, Activation ,Dropout , Flatten , Conv1D ,MaxPooling1D\n",
        "from keras.layers import LSTM\n",
        "from keras import losses"
      ]
    },
    {
      "cell_type": "code",
      "execution_count": null,
      "id": "e8a1f89e",
      "metadata": {
        "id": "e8a1f89e"
      },
      "outputs": [],
      "source": [
        "quandl.ApiConfig.api_key = \"WZmSksQmNkYD1AmvzmKC\""
      ]
    },
    {
      "cell_type": "code",
      "execution_count": null,
      "id": "29cfdc45",
      "metadata": {
        "id": "29cfdc45"
      },
      "outputs": [],
      "source": [
        "# df = quandl.get(\"NSE/MAHABANK\")\n",
        "df = quandl.get(\"NSE/NIFTY_50\")\n"
      ]
    },
    {
      "cell_type": "code",
      "execution_count": null,
      "id": "41d1c4ea",
      "metadata": {
        "id": "41d1c4ea"
      },
      "outputs": [],
      "source": [
        "df.shape"
      ]
    },
    {
      "cell_type": "code",
      "execution_count": null,
      "id": "6fe9d85c",
      "metadata": {
        "id": "6fe9d85c"
      },
      "outputs": [],
      "source": [
        "df.tail()"
      ]
    },
    {
      "cell_type": "code",
      "execution_count": null,
      "id": "f0b73226",
      "metadata": {
        "id": "f0b73226"
      },
      "outputs": [],
      "source": [
        "# df.drop(df.columns[[3,5,6]], axis=1, inplace=True)\n",
        "df=df[['Open','High','Low','Close']]\n",
        "df.head()"
      ]
    },
    {
      "cell_type": "code",
      "execution_count": null,
      "id": "6b61a419",
      "metadata": {
        "id": "6b61a419"
      },
      "outputs": [],
      "source": [
        "df['High'] = df['High'] / 100000\n",
        "df['Open'] = df['Open'] / 100000\n",
        "df['Low'] = df['Low'] / 100000\n",
        "df['Close'] = df['Close'] / 100000\n",
        "\n",
        "print(df.head())\n",
        "print(df.tail())"
      ]
    },
    {
      "cell_type": "code",
      "execution_count": null,
      "id": "f31dc466",
      "metadata": {
        "id": "f31dc466"
      },
      "outputs": [],
      "source": [
        "data = df.to_numpy()"
      ]
    },
    {
      "cell_type": "code",
      "execution_count": null,
      "id": "2db43976",
      "metadata": {
        "id": "2db43976"
      },
      "outputs": [],
      "source": []
    },
    {
      "cell_type": "code",
      "execution_count": null,
      "id": "af3d2b78",
      "metadata": {
        "id": "af3d2b78"
      },
      "outputs": [],
      "source": [
        "result = []\n",
        "sequence_length = 6\n",
        "for index in range(len(data) - sequence_length):\n",
        "    result.append(data[index: index + sequence_length])\n",
        "    \n",
        "result = np.array(result)\n",
        "\n",
        "row = round(0.8 * result.shape[0])\n",
        "\n",
        "#creating training data\n",
        "train = result[:int(row), :]\n",
        "\n",
        "x_train = train[:, :-1]\n",
        "y_train = train[:, -1][:,-1]\n",
        "x_test = result[int(row):, :-1]\n",
        "y_test = result[int(row):, -1][:,-1]\n",
        "\n",
        "amount_of_features = len(df.columns)\n",
        "x_train = np.reshape(x_train, (x_train.shape[0], x_train.shape[1], amount_of_features))\n",
        "x_test = np.reshape(x_test, (x_test.shape[0], x_test.shape[1], amount_of_features)) \n",
        "\n",
        "print(\"X_train\", x_train.shape)\n",
        "print(\"y_train\", y_train.shape)\n",
        "print(\"X_test\", x_test.shape)\n",
        "print(\"y_test\", y_test.shape)"
      ]
    },
    {
      "cell_type": "code",
      "execution_count": null,
      "id": "d6755583",
      "metadata": {
        "id": "d6755583"
      },
      "outputs": [],
      "source": []
    },
    {
      "cell_type": "code",
      "execution_count": null,
      "id": "60067846",
      "metadata": {
        "id": "60067846"
      },
      "outputs": [],
      "source": [
        "from keras import optimizers\n",
        "def build_model(layers):\n",
        "        d = 0.2\n",
        "        model = Sequential()\n",
        "        model.add(LSTM(128, input_shape=(layers[1], layers[0]), return_sequences=True))\n",
        "        model.add(LSTM(32, input_shape=(layers[1], layers[0]), return_sequences=False))\n",
        "        model.add(Dropout(d))\n",
        "        model.add(Dense(16, activation=\"relu\", kernel_initializer=\"uniform\"))\n",
        "        #model.add(Dropout(d))\n",
        "        model.add(Dense(1, activation=\"relu\", kernel_initializer=\"uniform\"))\n",
        "        model.compile(loss='mse',optimizer='adam',metrics=['mae'])\n",
        "        return model"
      ]
    },
    {
      "cell_type": "code",
      "source": [
        "model = build_model([4,5,1])\n",
        "#Summary of the Model\n",
        "print(model.summary())\n",
        "     "
      ],
      "metadata": {
        "id": "eQVudrw7aIdz"
      },
      "id": "eQVudrw7aIdz",
      "execution_count": null,
      "outputs": []
    },
    {
      "cell_type": "code",
      "source": [
        "from timeit import default_timer as timer\n",
        "start = timer()\n",
        "SPLIT_PERCENTAGE=0.2\n",
        "history = model.fit(x_train,\n",
        "                    y_train,\n",
        "                    batch_size=16,\n",
        "                    epochs=10,\n",
        "                    validation_split=SPLIT_PERCENTAGE,\n",
        "                    verbose=2)\n",
        "end = timer()\n",
        "print(end - start)"
      ],
      "metadata": {
        "id": "BVaV9H3KaKVk"
      },
      "id": "BVaV9H3KaKVk",
      "execution_count": null,
      "outputs": []
    },
    {
      "cell_type": "code",
      "source": [
        "history_dict = history.history\n",
        "history_dict.keys()"
      ],
      "metadata": {
        "id": "2Ufat7dGaOWR"
      },
      "id": "2Ufat7dGaOWR",
      "execution_count": null,
      "outputs": []
    },
    {
      "cell_type": "code",
      "source": [
        "#plt.style.use('fivethirtyeight')\n",
        "plt.style.use('dark_background')\n",
        "#plt.style.use('ggplot')\n",
        "#plt.style.use('seaborn-whitegrid')\n",
        "#plt.style.use('bmh')\n",
        "#plt.style.use('seaborn')"
      ],
      "metadata": {
        "id": "FIbzVX2jaWFB"
      },
      "id": "FIbzVX2jaWFB",
      "execution_count": null,
      "outputs": []
    },
    {
      "cell_type": "code",
      "source": [
        "import matplotlib.pyplot as plt\n",
        "\n",
        "loss_values = history_dict['loss']\n",
        "val_loss_values = history_dict['val_loss']\n",
        "loss_values50 = loss_values[0:150]\n",
        "val_loss_values50 = val_loss_values[0:150]\n",
        "epochs = range(1, len(loss_values50) + 1)\n",
        "plt.plot(epochs, loss_values50, 'b',color = 'blue', label='Training loss')\n",
        "plt.plot(epochs, val_loss_values50, 'b',color='red', label='Validation loss')\n",
        "plt.rc('font', size = 18)\n",
        "plt.title('Training and validation loss')\n",
        "plt.xlabel('Epochs')\n",
        "plt.ylabel('Loss')\n",
        "plt.legend()\n",
        "plt.xticks(epochs)\n",
        "fig = plt.gcf()\n",
        "fig.set_size_inches(15,7)\n",
        "#fig.savefig('img/25/mrftest&validationlossconv1dlstm.png', dpi=300)\n",
        "plt.show()"
      ],
      "metadata": {
        "id": "8VTlYL0waYMu"
      },
      "id": "8VTlYL0waYMu",
      "execution_count": null,
      "outputs": []
    },
    {
      "cell_type": "code",
      "source": [
        "mae = history_dict['mae']\n",
        "vmae = history_dict['val_mae']\n",
        "epochs = range(1, len(mae) + 1)\n",
        "plt.plot(epochs, mae, 'b',color = 'blue', label='Training error')\n",
        "plt.plot(epochs, vmae, 'b',color='red', label='Validation error')\n",
        "plt.title('Training and validation error')\n",
        "plt.xlabel('Epochs')\n",
        "plt.ylabel('Error')\n",
        "plt.legend()\n",
        "plt.xticks(epochs)\n",
        "fig = plt.gcf()\n",
        "fig.set_size_inches(15,7)\n",
        "#fig.savefig('img/25/mrftest&validationerrorconv1dlstm.png', dpi=300)\n",
        "plt.show()"
      ],
      "metadata": {
        "id": "YEvu6VUgadPh"
      },
      "id": "YEvu6VUgadPh",
      "execution_count": null,
      "outputs": []
    },
    {
      "cell_type": "code",
      "source": [
        "model.metrics_names\n",
        "     "
      ],
      "metadata": {
        "id": "cg_nYBmiahkP"
      },
      "id": "cg_nYBmiahkP",
      "execution_count": null,
      "outputs": []
    },
    {
      "cell_type": "code",
      "source": [
        "trainScore = model.evaluate(x_train, y_train, verbose=0)\n",
        "testScore = model.evaluate(x_test, y_test, verbose=0)"
      ],
      "metadata": {
        "id": "ag8GS_XWakr-"
      },
      "id": "ag8GS_XWakr-",
      "execution_count": null,
      "outputs": []
    },
    {
      "cell_type": "code",
      "source": [
        "p = model.predict(x_test)"
      ],
      "metadata": {
        "id": "i81H2fdlamRp"
      },
      "id": "i81H2fdlamRp",
      "execution_count": null,
      "outputs": []
    },
    {
      "cell_type": "code",
      "source": [
        "plt.plot(p,color='red', label='prediction')\n",
        "plt.plot(y_test,color='blue', label='y_test')\n",
        "plt.xlabel('No. of Trading Days')\n",
        "plt.ylabel('Close Value (scaled)')\n",
        "plt.legend(loc='upper left')\n",
        "fig = plt.gcf()\n",
        "fig.set_size_inches(15, 5)\n",
        "#fig.savefig('img/25/mrftestconv1dlstm.png', dpi=300)\n",
        "plt.show()"
      ],
      "metadata": {
        "id": "zDDznshuapqh"
      },
      "id": "zDDznshuapqh",
      "execution_count": null,
      "outputs": []
    },
    {
      "cell_type": "code",
      "source": [
        "p1= model.predict(x_train)\n",
        "len(p1)"
      ],
      "metadata": {
        "id": "PSR_VV0JarpN"
      },
      "id": "PSR_VV0JarpN",
      "execution_count": null,
      "outputs": []
    },
    {
      "cell_type": "code",
      "source": [
        "size_req=int(len(p1)*(1-SPLIT_PERCENTAGE))"
      ],
      "metadata": {
        "id": "mJkM8JJkfjxE"
      },
      "id": "mJkM8JJkfjxE",
      "execution_count": null,
      "outputs": []
    },
    {
      "cell_type": "code",
      "source": [
        "plt.plot(p1[:size_req],color='red', label='prediction on training samples')\n",
        "x = np.array(range(size_req,len(p1)))\n",
        "plt.plot(x,p1[size_req:],color = 'magenta',label ='prediction on validating samples')\n",
        "plt.plot(y_train,color='blue', label='y_train')\n",
        "plt.xlabel('No. of Trading Days')\n",
        "plt.ylabel('Close Value (scaled)')\n",
        "plt.legend(loc='upper left')\n",
        "fig = plt.gcf()\n",
        "fig.set_size_inches(20,10)\n",
        "#fig.savefig('img/25/mrftrainconv1dlstm.png', dpi=300)\n",
        "plt.show()"
      ],
      "metadata": {
        "id": "BnVx7Mk7awh8"
      },
      "id": "BnVx7Mk7awh8",
      "execution_count": null,
      "outputs": []
    },
    {
      "cell_type": "code",
      "source": [
        "len(y_test)"
      ],
      "metadata": {
        "id": "6uNvI7qMkXvo"
      },
      "id": "6uNvI7qMkXvo",
      "execution_count": null,
      "outputs": []
    },
    {
      "cell_type": "code",
      "source": [
        "y = y_test * 100\n",
        "y_pred = p.reshape(len(y_test))\n",
        "y_pred = y_pred * 100"
      ],
      "metadata": {
        "id": "kU4IkQiCayRX"
      },
      "id": "kU4IkQiCayRX",
      "execution_count": null,
      "outputs": []
    },
    {
      "cell_type": "code",
      "source": [
        "from sklearn.metrics import mean_absolute_error"
      ],
      "metadata": {
        "id": "2EizgGJGa4ZQ"
      },
      "id": "2EizgGJGa4ZQ",
      "execution_count": null,
      "outputs": []
    },
    {
      "cell_type": "code",
      "source": [
        "print('Trainscore RMSE \\tTrain Mean abs Error \\tTestscore Rmse \\t Test Mean abs Error')\n",
        "print('%.9f \\t\\t %.9f \\t\\t %.9f \\t\\t %.9f' % (math.sqrt(trainScore[0]),trainScore[1],math.sqrt(testScore[0]),testScore[1]))"
      ],
      "metadata": {
        "id": "Lu8Tw2Mea52Y"
      },
      "id": "Lu8Tw2Mea52Y",
      "execution_count": null,
      "outputs": []
    },
    {
      "cell_type": "code",
      "source": [
        "print('mean absolute error \\t mean absolute percentage error')\n",
        "print(' %.9f \\t\\t\\t %.9f' % (mean_absolute_error(y,y_pred),(np.mean(np.abs((y - y_pred) / y)) * 100)))"
      ],
      "metadata": {
        "id": "-KzG5QF9bCjP"
      },
      "id": "-KzG5QF9bCjP",
      "execution_count": null,
      "outputs": []
    },
    {
      "cell_type": "code",
      "source": [
        "Y = np.concatenate((y_train,y_test),axis = 0)\n",
        "P = np.concatenate((p1,p),axis = 0)\n",
        "#plotting the complete Y set with predicted values on x_train and x_test(variable p1 & p respectively given above)\n",
        "#for \n",
        "plt.plot(P[:size_req],color='red', label='prediction on training samples')\n",
        "#for validating samples\n",
        "z = np.array(range(size_req,len(p1)))\n",
        "plt.plot(z,P[size_req:len(p1)],color = 'white',label ='prediction on validating samples')\n",
        "#for testing samples\n",
        "x = np.array(range(len(p1),len(P)))\n",
        "plt.plot(x,P[len(p1):],color = 'yellow',label ='prediction on testing samples(x_test)')\n",
        "\n",
        "plt.plot(Y,color='blue', label='Y')\n",
        "plt.legend(loc='upper left')\n",
        "fig = plt.gcf()\n",
        "fig.set_size_inches(20,12)\n",
        "plt.show()"
      ],
      "metadata": {
        "id": "RwD4AI2qbEwI"
      },
      "id": "RwD4AI2qbEwI",
      "execution_count": null,
      "outputs": []
    },
    {
      "cell_type": "code",
      "source": [],
      "metadata": {
        "id": "eGeMzt0SbHvS"
      },
      "id": "eGeMzt0SbHvS",
      "execution_count": null,
      "outputs": []
    }
  ],
  "metadata": {
    "kernelspec": {
      "display_name": "Python 3 (ipykernel)",
      "language": "python",
      "name": "python3"
    },
    "language_info": {
      "codemirror_mode": {
        "name": "ipython",
        "version": 3
      },
      "file_extension": ".py",
      "mimetype": "text/x-python",
      "name": "python",
      "nbconvert_exporter": "python",
      "pygments_lexer": "ipython3",
      "version": "3.10.6"
    },
    "colab": {
      "private_outputs": true,
      "provenance": [],
      "include_colab_link": true
    },
    "accelerator": "GPU",
    "gpuClass": "standard"
  },
  "nbformat": 4,
  "nbformat_minor": 5
}