{
 "cells": [
  {
   "cell_type": "code",
   "execution_count": 133,
   "id": "a9497457",
   "metadata": {},
   "outputs": [],
   "source": [
    "from bs4 import BeautifulSoup\n",
    "import requests"
   ]
  },
  {
   "cell_type": "code",
   "execution_count": 134,
   "id": "cbd6177d",
   "metadata": {},
   "outputs": [],
   "source": [
    "url='https://www.fresherslive.com/online-test/aptitude-test/questions-and-answers'\n",
    "req=requests.get(url)\n",
    "content=req.text\n",
    "soup=BeautifulSoup(content)"
   ]
  },
  {
   "cell_type": "code",
   "execution_count": 138,
   "id": "5085f5d9",
   "metadata": {},
   "outputs": [],
   "source": [
    "def Extract_Data_From_Page(main_link):\n",
    "    req=requests.get(main_link)\n",
    "    content=req.text\n",
    "    soup=BeautifulSoup(content)\n",
    "\n",
    "    data=soup.find_all('li',{'class':'disp_inblock'})\n",
    "    try:\n",
    "        MAX_PAGE_SIZE=int(data[len(data)-1].text)\n",
    "    except:\n",
    "        MAX_PAGE_SIZE=2\n",
    "    \n",
    "    ANSWERS=[]\n",
    "    OPTIONS=[]\n",
    "    QUESTIONS=[]\n",
    "    for i in range(1,int(MAX_PAGE_SIZE)):\n",
    "        req=requests.get(main_link+'/{}'.format(int(i)))\n",
    "        content=req.text\n",
    "        soup=BeautifulSoup(content)\n",
    "        data=soup.find_all('div',{'class':'qus_txt'})\n",
    "        \n",
    "        for i in data:\n",
    "            QUESTIONS.append(i.text)\n",
    "\n",
    "        data=soup.find_all('div',{'class':'optdiv'})\n",
    "        \n",
    "        count=0\n",
    "        temp=[]\n",
    "        for i in data:\n",
    "            temp.append(i.text)\n",
    "            count+=1\n",
    "            if count==5:\n",
    "                OPTIONS.append(temp)\n",
    "                temp=[]\n",
    "                count=0\n",
    "        data=soup.find_all('span',{'class':'crct_ans'})\n",
    "        \n",
    "        for i in data:\n",
    "            ANSWERS.append(i.text)\n",
    "\n",
    "    print (\"Questions {} ANS {} OPTIONS {}\".format(len(QUESTIONS),len(ANSWERS),len(OPTIONS)))\n",
    "    DATA=[]\n",
    "    for question,options,answer in zip(QUESTIONS,OPTIONS,ANSWERS):\n",
    "        DATA.append(\n",
    "            {\n",
    "                'Question':question,\n",
    "                'Options':options,\n",
    "                'Answer':answer\n",
    "            }\n",
    "        )\n",
    "    return DATA"
   ]
  },
  {
   "cell_type": "code",
   "execution_count": 139,
   "id": "47e499cf",
   "metadata": {},
   "outputs": [],
   "source": [
    "data=soup.find_all('table',{'class':'ontable'})[0].find_all('td')"
   ]
  },
  {
   "cell_type": "code",
   "execution_count": 140,
   "id": "c59ce1c3",
   "metadata": {},
   "outputs": [
    {
     "name": "stdout",
     "output_type": "stream",
     "text": [
      "Questions 440 ANS 440 OPTIONS 440\n",
      "Questions 1200 ANS 1200 OPTIONS 1200\n",
      "Questions 40 ANS 40 OPTIONS 40\n",
      "Questions 240 ANS 240 OPTIONS 240\n",
      "Questions 480 ANS 480 OPTIONS 480\n",
      "Questions 240 ANS 240 OPTIONS 240\n",
      "Questions 180 ANS 180 OPTIONS 180\n",
      "Questions 220 ANS 220 OPTIONS 220\n",
      "Questions 240 ANS 240 OPTIONS 240\n",
      "Questions 120 ANS 120 OPTIONS 120\n",
      "Questions 140 ANS 140 OPTIONS 140\n",
      "Questions 160 ANS 160 OPTIONS 160\n",
      "Questions 220 ANS 220 OPTIONS 220\n",
      "Questions 280 ANS 280 OPTIONS 280\n",
      "Questions 760 ANS 760 OPTIONS 760\n",
      "Questions 20 ANS 20 OPTIONS 20\n",
      "Questions 80 ANS 80 OPTIONS 80\n",
      "Questions 300 ANS 300 OPTIONS 300\n",
      "Questions 780 ANS 780 OPTIONS 780\n",
      "Questions 220 ANS 220 OPTIONS 220\n",
      "Questions 1280 ANS 1280 OPTIONS 1280\n",
      "Questions 320 ANS 320 OPTIONS 320\n",
      "Questions 60 ANS 60 OPTIONS 60\n",
      "Questions 80 ANS 80 OPTIONS 80\n",
      "Questions 10 ANS 10 OPTIONS 10\n",
      "Questions 17 ANS 17 OPTIONS 17\n",
      "Questions 14 ANS 14 OPTIONS 14\n",
      "Questions 10 ANS 10 OPTIONS 10\n",
      "Questions 10 ANS 10 OPTIONS 10\n",
      "Questions 140 ANS 140 OPTIONS 140\n"
     ]
    }
   ],
   "source": [
    "PAGE_DATA=[]\n",
    "for i in data:\n",
    "    CATEGORY=i.text.split(' (')[0][2:]\n",
    "    LINKS=i.find('a')['href']\n",
    "    PAGE_DATA.append(\n",
    "        {\n",
    "            'CATEGORY':CATEGORY,\n",
    "            'DATA':Extract_Data_From_Page(LINKS)\n",
    "        }\n",
    "    )"
   ]
  },
  {
   "cell_type": "code",
   "execution_count": 141,
   "id": "a3164684",
   "metadata": {},
   "outputs": [],
   "source": [
    "import json\n",
    "txt_data=json.dumps(PAGE_DATA)\n",
    "\n",
    "with open('/home/omkarsp644/Data_Engineering/Aptitude_Questions.txt', 'w') as f:\n",
    "    f.write(txt_data)"
   ]
  },
  {
   "cell_type": "code",
   "execution_count": null,
   "id": "2d7bf6cc",
   "metadata": {},
   "outputs": [],
   "source": []
  },
  {
   "cell_type": "code",
   "execution_count": null,
   "id": "ad266712",
   "metadata": {},
   "outputs": [],
   "source": []
  },
  {
   "cell_type": "code",
   "execution_count": null,
   "id": "428ba371",
   "metadata": {},
   "outputs": [],
   "source": []
  },
  {
   "cell_type": "code",
   "execution_count": 142,
   "id": "a99b1884",
   "metadata": {},
   "outputs": [
    {
     "name": "stdout",
     "output_type": "stream",
     "text": [
      "{'name': '-NEMwVAoZFbQsXqksfUH'}\n"
     ]
    }
   ],
   "source": [
    "from firebase import firebase  \n",
    "firebase = firebase.FirebaseApplication('https://myfirebase-3af47.firebaseio.com/', None)  \n",
    "\n",
    "result = firebase.post('MAIN_DATA',PAGE_DATA)  \n",
    "print(result)  "
   ]
  },
  {
   "cell_type": "code",
   "execution_count": null,
   "id": "2a79674a",
   "metadata": {},
   "outputs": [],
   "source": []
  },
  {
   "cell_type": "code",
   "execution_count": null,
   "id": "d38d0078",
   "metadata": {},
   "outputs": [],
   "source": []
  }
 ],
 "metadata": {
  "kernelspec": {
   "display_name": "Python 3 (ipykernel)",
   "language": "python",
   "name": "python3"
  },
  "language_info": {
   "codemirror_mode": {
    "name": "ipython",
    "version": 3
   },
   "file_extension": ".py",
   "mimetype": "text/x-python",
   "name": "python",
   "nbconvert_exporter": "python",
   "pygments_lexer": "ipython3",
   "version": "3.10.6"
  }
 },
 "nbformat": 4,
 "nbformat_minor": 5
}
